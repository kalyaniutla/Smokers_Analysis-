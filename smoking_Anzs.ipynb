{
 "cells": [
  {
   "cell_type": "code",
   "execution_count": 1,
   "id": "c693ba37",
   "metadata": {
    "execution": {
     "iopub.execute_input": "2024-04-26T13:38:44.708664Z",
     "iopub.status.busy": "2024-04-26T13:38:44.708257Z",
     "iopub.status.idle": "2024-04-26T13:38:45.687106Z",
     "shell.execute_reply": "2024-04-26T13:38:45.686010Z"
    },
    "papermill": {
     "duration": 0.98884,
     "end_time": "2024-04-26T13:38:45.689888",
     "exception": false,
     "start_time": "2024-04-26T13:38:44.701048",
     "status": "completed"
    },
    "tags": []
   },
   "outputs": [],
   "source": [
    "import pandas as pd"
   ]
  },
  {
   "cell_type": "code",
   "execution_count": 2,
   "id": "42258280",
   "metadata": {
    "execution": {
     "iopub.execute_input": "2024-04-26T13:38:45.701860Z",
     "iopub.status.busy": "2024-04-26T13:38:45.700882Z",
     "iopub.status.idle": "2024-04-26T13:38:46.124333Z",
     "shell.execute_reply": "2024-04-26T13:38:46.122885Z"
    },
    "papermill": {
     "duration": 0.431634,
     "end_time": "2024-04-26T13:38:46.126485",
     "exception": true,
     "start_time": "2024-04-26T13:38:45.694851",
     "status": "failed"
    },
    "tags": []
   },
   "outputs": [
    {
     "ename": "NameError",
     "evalue": "name 'data' is not defined",
     "output_type": "error",
     "traceback": [
      "\u001b[0;31m---------------------------------------------------------------------------\u001b[0m",
      "\u001b[0;31mNameError\u001b[0m                                 Traceback (most recent call last)",
      "Cell \u001b[0;32mIn[2], line 1\u001b[0m\n\u001b[0;32m----> 1\u001b[0m \u001b[43mdata\u001b[49m\u001b[38;5;241m.\u001b[39mhead()\n",
      "\u001b[0;31mNameError\u001b[0m: name 'data' is not defined"
     ]
    }
   ],
   "source": [
    "data.head()\n"
   ]
  },
  {
   "cell_type": "code",
   "execution_count": null,
   "id": "8bb80695",
   "metadata": {
    "papermill": {
     "duration": null,
     "end_time": null,
     "exception": null,
     "start_time": null,
     "status": "pending"
    },
    "tags": []
   },
   "outputs": [],
   "source": [
    "data .describe()"
   ]
  },
  {
   "cell_type": "code",
   "execution_count": null,
   "id": "529978f0",
   "metadata": {
    "papermill": {
     "duration": null,
     "end_time": null,
     "exception": null,
     "start_time": null,
     "status": "pending"
    },
    "tags": []
   },
   "outputs": [],
   "source": [
    "data.dtypes"
   ]
  },
  {
   "cell_type": "code",
   "execution_count": null,
   "id": "21d7388a",
   "metadata": {
    "papermill": {
     "duration": null,
     "end_time": null,
     "exception": null,
     "start_time": null,
     "status": "pending"
    },
    "tags": []
   },
   "outputs": [],
   "source": [
    "# Convert 'PERCENT', 'SE', 'LOWER95', and 'UPPER95' columns to numeric\n",
    "data['PERCENT'] = pd.to_numeric(data['PERCENT'], errors='coerce')\n",
    "data['SE'] = pd.to_numeric(data['SE'], errors='coerce')\n",
    "data['LOWER95'] = pd.to_numeric(data['LOWER95'], errors='coerce')\n",
    "data['UPPER95'] = pd.to_numeric(data['UPPER95'], errors='coerce')\n",
    "\n",
    "# Display the data types after conversion\n",
    "print(\"Updated Data Types:\")\n",
    "print(data.dtypes)"
   ]
  },
  {
   "cell_type": "code",
   "execution_count": null,
   "id": "25c1a207",
   "metadata": {
    "papermill": {
     "duration": null,
     "end_time": null,
     "exception": null,
     "start_time": null,
     "status": "pending"
    },
    "tags": []
   },
   "outputs": [],
   "source": [
    "# Group by demographic and calculate mean percentage\n",
    "mean_percentage_by_demographic = data.groupby('DEMOGRAPHIC')['PERCENT'].mean()\n",
    "print(mean_percentage_by_demographic)"
   ]
  },
  {
   "cell_type": "code",
   "execution_count": null,
   "id": "2abae9d7",
   "metadata": {
    "papermill": {
     "duration": null,
     "end_time": null,
     "exception": null,
     "start_time": null,
     "status": "pending"
    },
    "tags": []
   },
   "outputs": [],
   "source": [
    "# Calculate overall smoking prevalence for each year\n",
    "overall_prevalence = data.groupby('YEAR')['PERCENT'].mean()\n",
    "print(\"\\nOverall smoking prevalence by year:\")\n",
    "print(overall_prevalence)"
   ]
  },
  {
   "cell_type": "code",
   "execution_count": null,
   "id": "568ede8f",
   "metadata": {
    "papermill": {
     "duration": null,
     "end_time": null,
     "exception": null,
     "start_time": null,
     "status": "pending"
    },
    "tags": []
   },
   "outputs": [],
   "source": [
    "# Calculate smoking prevalence by demographic group\n",
    "prevalence_by_demographic = data.groupby('DEMOGRAPHIC')['PERCENT'].mean()\n",
    "print(\"\\nSmoking prevalence by demographic group:\")\n",
    "print(prevalence_by_demographic)"
   ]
  },
  {
   "cell_type": "code",
   "execution_count": null,
   "id": "1cb233fd",
   "metadata": {
    "papermill": {
     "duration": null,
     "end_time": null,
     "exception": null,
     "start_time": null,
     "status": "pending"
    },
    "tags": []
   },
   "outputs": [],
   "source": [
    "# Plot smoking prevalence trends over time\n",
    "import matplotlib.pyplot as plt"
   ]
  },
  {
   "cell_type": "code",
   "execution_count": null,
   "id": "2460d330",
   "metadata": {
    "papermill": {
     "duration": null,
     "end_time": null,
     "exception": null,
     "start_time": null,
     "status": "pending"
    },
    "tags": []
   },
   "outputs": [],
   "source": [
    " plt.plot(group_data['YEAR'], group_data['PERCENT'], label=demographic)"
   ]
  },
  {
   "cell_type": "code",
   "execution_count": null,
   "id": "5fae2782",
   "metadata": {
    "papermill": {
     "duration": null,
     "end_time": null,
     "exception": null,
     "start_time": null,
     "status": "pending"
    },
    "tags": []
   },
   "outputs": [],
   "source": [
    "plt.figure(figsize=(10, 6))\n",
    "for demographic, group_data in data.groupby('DEMOGRAPHIC'):\n",
    "    plt.plot(group_data['YEAR'], group_data['PERCENT'], label=demographic)\n",
    "    plt.xlabel('Year')\n",
    "plt.ylabel('Smoking Prevalence (%)')\n",
    "plt.title('Smoking Prevalence Trends by Demographic Group')\n",
    "plt.legend()\n",
    "plt.grid(True)\n",
    "plt.show()\n"
   ]
  },
  {
   "cell_type": "code",
   "execution_count": null,
   "id": "673e5bad",
   "metadata": {
    "papermill": {
     "duration": null,
     "end_time": null,
     "exception": null,
     "start_time": null,
     "status": "pending"
    },
    "tags": []
   },
   "outputs": [],
   "source": []
  },
  {
   "cell_type": "code",
   "execution_count": null,
   "id": "100c8491",
   "metadata": {
    "papermill": {
     "duration": null,
     "end_time": null,
     "exception": null,
     "start_time": null,
     "status": "pending"
    },
    "tags": []
   },
   "outputs": [],
   "source": [
    "plt.figure(figsize=(10, 6))\n",
    "for demographic, group_data in data.groupby('DEMOGRAPHIC'):\n",
    "    plt.bar(group_data['YEAR'], group_data['PERCENT'], label=demographic)\n",
    "    plt.xlabel('Year')\n",
    "plt.ylabel('Smoking Prevalence (%)')\n",
    "plt.title('Smoking Prevalence Trends by Demographic Group')\n",
    "plt.legend()\n",
    "plt.grid(True)\n",
    "plt.show()"
   ]
  },
  {
   "cell_type": "code",
   "execution_count": null,
   "id": "3c717351",
   "metadata": {
    "papermill": {
     "duration": null,
     "end_time": null,
     "exception": null,
     "start_time": null,
     "status": "pending"
    },
    "tags": []
   },
   "outputs": [],
   "source": [
    "plt.figure(figsize=(10, 6))\n",
    "for demographic, group_data in data.groupby('DEMOGRAPHIC'):\n",
    "    plt.scatter(group_data['YEAR'], group_data['PERCENT'], label=demographic)\n",
    "    plt.xlabel('Year')\n",
    "plt.ylabel('Smoking Prevalence (%)')\n",
    "plt.title('Smoking Prevalence Trends by Demographic Group')\n",
    "plt.legend()\n",
    "plt.grid(True)\n",
    "plt.show()"
   ]
  },
  {
   "cell_type": "code",
   "execution_count": null,
   "id": "6ff28a9c",
   "metadata": {
    "papermill": {
     "duration": null,
     "end_time": null,
     "exception": null,
     "start_time": null,
     "status": "pending"
    },
    "tags": []
   },
   "outputs": [],
   "source": []
  }
 ],
 "metadata": {
  "kaggle": {
   "accelerator": "none",
   "dataSources": [
    {
     "datasetId": 4885944,
     "sourceId": 8237260,
     "sourceType": "datasetVersion"
    }
   ],
   "isGpuEnabled": false,
   "isInternetEnabled": true,
   "language": "python",
   "sourceType": "notebook"
  },
  "kernelspec": {
   "display_name": "Python 3 (ipykernel)",
   "language": "python",
   "name": "python3"
  },
  "language_info": {
   "codemirror_mode": {
    "name": "ipython",
    "version": 3
   },
   "file_extension": ".py",
   "mimetype": "text/x-python",
   "name": "python",
   "nbconvert_exporter": "python",
   "pygments_lexer": "ipython3",
   "version": "3.10.13"
  },
  "papermill": {
   "default_parameters": {},
   "duration": 5.04199,
   "end_time": "2024-04-26T13:38:46.653160",
   "environment_variables": {},
   "exception": true,
   "input_path": "__notebook__.ipynb",
   "output_path": "__notebook__.ipynb",
   "parameters": {},
   "start_time": "2024-04-26T13:38:41.611170",
   "version": "2.5.0"
  }
 },
 "nbformat": 4,
 "nbformat_minor": 5
}
